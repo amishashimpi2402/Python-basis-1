{
 "cells": [
  {
   "cell_type": "markdown",
   "id": "d71c2e76",
   "metadata": {},
   "source": [
    "# Assignment 11"
   ]
  },
  {
   "cell_type": "markdown",
   "id": "a514049f",
   "metadata": {},
   "source": [
    "# 1. What is the role of the 'else' block in a try-except statement? Provide an example scenario where it would be useful."
   ]
  },
  {
   "cell_type": "markdown",
   "id": "38e62b16",
   "metadata": {},
   "source": [
    "The else block in a try-except statement is used to execute a block of code when no exceptions occur within the try block. It allows you to distinguish between the code that might raise an exception and the code that should run only if no exceptions are encountered."
   ]
  },
  {
   "cell_type": "code",
   "execution_count": 2,
   "id": "e9efdead",
   "metadata": {},
   "outputs": [],
   "source": [
    "def divide_numbers(a, b):\n",
    "    try:\n",
    "        result = a / b\n",
    "    except ZeroDivisionError:\n",
    "        print(\"Error: Division by zero is not allowed\")\n",
    "    else:\n",
    "        print(\"Division successful! Result:\", result)\n"
   ]
  },
  {
   "cell_type": "code",
   "execution_count": 3,
   "id": "20b7779f",
   "metadata": {},
   "outputs": [
    {
     "name": "stdout",
     "output_type": "stream",
     "text": [
      "Division successful! Result: 5.0\n"
     ]
    }
   ],
   "source": [
    "divide_numbers(10, 2)"
   ]
  },
  {
   "cell_type": "code",
   "execution_count": 4,
   "id": "b359b532",
   "metadata": {},
   "outputs": [
    {
     "name": "stdout",
     "output_type": "stream",
     "text": [
      "Error: Division by zero is not allowed\n"
     ]
    }
   ],
   "source": [
    "divide_numbers(8, 0)  "
   ]
  },
  {
   "cell_type": "markdown",
   "id": "8e3ecbc8",
   "metadata": {},
   "source": [
    "# 2. Can a try-except block be nested inside another try-except block? Explain with an example."
   ]
  },
  {
   "cell_type": "markdown",
   "id": "d5ee3c6b",
   "metadata": {},
   "source": [
    "Absolutely, try-except blocks can be nested within each other in Python, allowing for more granular error handling and management of exceptions in different parts of the code."
   ]
  },
  {
   "cell_type": "code",
   "execution_count": 5,
   "id": "3e286fe6",
   "metadata": {},
   "outputs": [
    {
     "name": "stdout",
     "output_type": "stream",
     "text": [
      "Enter the numerator: 4\n",
      "Enter the denominator: 8\n",
      "Result of division: 0.5\n"
     ]
    }
   ],
   "source": [
    "try:\n",
    "    # Outer try block\n",
    "    numerator = int(input(\"Enter the numerator: \"))\n",
    "    denominator = int(input(\"Enter the denominator: \"))\n",
    "    \n",
    "    try:\n",
    "        # Inner try block\n",
    "        result = numerator / denominator\n",
    "        print(\"Result of division:\", result)\n",
    "    \n",
    "    except ZeroDivisionError:\n",
    "        # Handling division by zero in the inner block\n",
    "        print(\"Error: Division by zero in the inner block\")\n",
    "    \n",
    "except ValueError:\n",
    "    # Handling invalid input in the outer block\n",
    "    print(\"Error: Please enter valid integers\")"
   ]
  },
  {
   "cell_type": "markdown",
   "id": "986d4acb",
   "metadata": {},
   "source": [
    "# 3. How can you create a custom exception class in Python? Provide an example that demonstrates its usage."
   ]
  },
  {
   "cell_type": "markdown",
   "id": "0470ee62",
   "metadata": {},
   "source": [
    "In Python, creating a custom exception class involves defining a new class that inherits from the built-in Exception class or one of its subclasses. This allows you to define your own custom exception types tailored to your specific application needs."
   ]
  },
  {
   "cell_type": "code",
   "execution_count": 10,
   "id": "65ad1a3a",
   "metadata": {},
   "outputs": [
    {
     "name": "stdout",
     "output_type": "stream",
     "text": [
      "Enter a number: 7\n",
      "Value entered is: 7\n"
     ]
    }
   ],
   "source": [
    "# Custom exception class inheriting from Exception\n",
    "class MyCustomError(Exception):\n",
    "    def __init__(self, message=\"This is a custom exception\"):\n",
    "        self.message = message\n",
    "        super().__init__(self.message)\n",
    "\n",
    "# Using the custom exception\n",
    "def check_value(value):\n",
    "    if value < 0:\n",
    "        raise MyCustomError(\"Value should be non-negative\")\n",
    "\n",
    "try:\n",
    "    user_value = int(input(\"Enter a number: \"))\n",
    "    check_value(user_value)\n",
    "    print(\"Value entered is:\", user_value)\n",
    "except MyCustomError as e:\n",
    "    print(\"Custom Exception:\", e)"
   ]
  },
  {
   "cell_type": "markdown",
   "id": "47d539cb",
   "metadata": {},
   "source": [
    "# 4. What are some common exceptions that are built-in to Python?"
   ]
  },
  {
   "cell_type": "markdown",
   "id": "99c7ad11",
   "metadata": {},
   "source": [
    "    1.SyntaxError: Raised when there's a syntax error in the code.\n",
    "        \n",
    "    2. IndentationError: Occurs when incorrect indentation is used.\n",
    "        \n",
    "    3. NameError: Raised when a local or global name is not found.\n",
    "        \n",
    "    4.TypeError: Occurs when an operation or function is applied to an object of inappropriate type.\n",
    "        \n",
    "    5. ValueError: Raised when a function receives an argument of the correct type but with an inappropriate value.\n",
    "        \n",
    "    6.ZeroDivisionError: Occurs when division or modulo operation is performed with zero as the divisor.\n",
    "        \n",
    "    7.IndexError: Raised when a sequence index is out of range.\n",
    "        \n",
    "    8.KeyError: Occurs when a dictionary key is not found in the set of existing keys.\n",
    "        \n",
    "    9.FileNotFoundError: Raised when a file or directory is requested but cannot be found.\n",
    "        \n",
    "   10. IOError: Occurs when an I/O operation fails (often a parent class of specific I/O-related exceptions).\n",
    "        \n",
    "    11.OSError: Raised when a system-related operation causes an error (e.g., a file cannot be opened).\n",
    "        \n",
    "    12.MemoryError: Raised when an operation runs out of memory.\n",
    "        \n",
    "   13. OverflowError: Occurs when the result of an arithmetic operation is too large to be represented.\n",
    "        \n",
    "    14.ArithmeticError: The base class for arithmetic errors.\n",
    "        \n",
    "    15.RuntimeError: Raised when an error is detected that doesn't fall into any specific category.\n",
    "        \n",
    "    "
   ]
  },
  {
   "cell_type": "markdown",
   "id": "24552008",
   "metadata": {},
   "source": [
    "# 5. What is logging in Python, and why is it important in software development?"
   ]
  },
  {
   "cell_type": "markdown",
   "id": "4ff67dc1",
   "metadata": {},
   "source": [
    "Logging in Python involves recording information, warnings, errors, and other relevant messages generated during the execution of a program. It's a critical component of software development used for tracking and recording events that occur during runtime.\n",
    "\n",
    "1.Debugging and Troubleshooting\n",
    "\n",
    "2.Monitoring and Analysis\n",
    "\n",
    "3.Auditing and Compliance\n",
    "\n",
    "4.Performance Optimization\n",
    "\n",
    "5.Predictive Maintenance"
   ]
  },
  {
   "cell_type": "markdown",
   "id": "5365b108",
   "metadata": {},
   "source": [
    "# 6. Explain the purpose of log levels in Python logging and provide examples of when each log level would be appropriate."
   ]
  },
  {
   "cell_type": "markdown",
   "id": "6782c712",
   "metadata": {},
   "source": [
    "    Log levels in Python logging allow developers to categorize and prioritize log messages based on their severity. They help in filtering and managing the amount of information logged, ensuring that relevant information is captured while avoiding cluttering logs with unnecessary details. Python's logging module defines several standard log levels:\n",
    "    \n",
    "    DEBUG: Lowest severity level. Used for detailed information, typically useful for debugging purposes. Example: Logging variable values, function execution flow.\n",
    "\n",
    "    INFO: Provides general information about the application's operation. It's often used to confirm that things are working as expected. Example: Application startup/shutdown messages.\n",
    "\n",
    "    WARNING: Indicates potential issues that may need attention but don't necessarily interrupt the application's flow. Example: Deprecation warnings, non-fatal errors.\n",
    "\n",
    "    ERROR: Indicates a more severe issue that might impact the application's functionality. These messages signify errors that the application can recover from. Example: An API call failed, but the application can continue.\n",
    "\n",
    "    CRITICAL: Highest severity level. Indicates a severe error that prevents the application from functioning properly. These messages often require immediate attention. Example: Server/database unavailability, unrecoverable errors."
   ]
  },
  {
   "cell_type": "markdown",
   "id": "b32c066d",
   "metadata": {},
   "source": [
    "# 7. What are log formatters in Python logging, and how can you customise the log message format using formatters?"
   ]
  },
  {
   "cell_type": "markdown",
   "id": "24e0b5ef",
   "metadata": {},
   "source": [
    " Python's logging module, log formatters define the structure and content of log messages. They allow developers to customize the way log records are formatted before being emitted by log handlers. Log formatters provide flexibility in how log messages are presented, including timestamps, log levels, module names, and custom information.\n",
    "\n",
    "Here's how log formatters work and how you can customize log message formats using formatters:"
   ]
  },
  {
   "cell_type": "markdown",
   "id": "d7190304",
   "metadata": {},
   "source": [
    "Creating a Formatter: You can create a log formatter using the Formatter class from the logging module. This formatter object can be customized with specific formatting options.\n",
    "    \n",
    "Customizing Log Message Format: The format string passed to the Formatter class specifies the structure of the log message. The format string can contain placeholders for various attributes like timestamps, log levels, and custom information enclosed in %(attribute_name)s format.\n",
    "       \n",
    "Applying the Formatter to a Handler: After creating the formatter, it needs to be associated with a log handler (like FileHandler, StreamHandler, etc.).\n",
    "            \n",
    "Attaching Handlers to Loggers: Finally, loggers need to have handlers attached to define where the logs are sent (e.g., console, file, etc.)."
   ]
  },
  {
   "cell_type": "markdown",
   "id": "88e9e9be",
   "metadata": {},
   "source": [
    "# 8. How can you set up logging to capture log messages from multiple modules or classes in a Python application?"
   ]
  },
  {
   "cell_type": "markdown",
   "id": "931da681",
   "metadata": {},
   "source": [
    "setting up logging to capture log messages from multiple modules or classes involves creating a logging configuration that can handle logs from various parts of the application. Here's a general approach to achieve this:\n",
    "\n",
    "1.Define a Configuration\n",
    "\n",
    "2.Use Loggers in Different Modules/Classes\n",
    "\n",
    "3.Customize Log Levels and Handlers"
   ]
  },
  {
   "cell_type": "markdown",
   "id": "6f0bd40e",
   "metadata": {},
   "source": [
    "# 9. What is the difference between the logging and print statements in Python? When should you use logging over print statements in a real-world application?"
   ]
  },
  {
   "cell_type": "markdown",
   "id": "44bcf0cf",
   "metadata": {},
   "source": [
    "Logging: Logging is a robust mechanism specifically designed for generating log messages at different severity levels (debug, info, warning, error, critical). It provides flexibility in capturing detailed information, formatting log messages, and managing logs across multiple modules or classes\n",
    "\n",
    "Print Statements: print() statements are primarily for displaying output to the console during program execution. They are simple and straightforward, outputting information without any structured formatting or categorization. "
   ]
  },
  {
   "cell_type": "markdown",
   "id": "1d700330",
   "metadata": {},
   "source": [
    "### Usage in Real-World Applications\n",
    "    \n",
    "    \n",
    "    "
   ]
  },
  {
   "cell_type": "markdown",
   "id": "73b805b9",
   "metadata": {},
   "source": [
    "Debugging and Maintenance : Logging is more suitable for debugging and maintenance purposes. It allows developers to categorize and manage log messages based on their severity, enabling better troubleshooting and monitoring in real-world applications.\n",
    "        \n",
    "Production Environments: In production environments, logging is preferable because it provides a systematic way to record and analyze application behavior. \n",
    "            \n",
    "Structured Information:Logging allows for structured log messages with timestamps, severity levels, and customizable formats, which aids in analysis and auditing."
   ]
  },
  {
   "cell_type": "markdown",
   "id": "be97c7be",
   "metadata": {},
   "source": [
    "# 10. Write a Python program that logs a message to a file named \"app.log\" with the following requirements:  ● The log message should be \"Hello, World!\"  ● The log level should be set to \"INFO.\" ● The log file should append new log entries without overwriting previous ones.\n"
   ]
  },
  {
   "cell_type": "code",
   "execution_count": 15,
   "id": "62c1de8f",
   "metadata": {},
   "outputs": [],
   "source": [
    "import logging\n",
    "\n",
    "# Create a logger\n",
    "logger = logging.getLogger('my_logger')\n",
    "logger.setLevel(logging.INFO)\n",
    "\n",
    "# Create a file handler\n",
    "handler = logging.FileHandler('app.log', mode='a')\n",
    "handler.setLevel(logging.INFO)\n",
    "\n",
    "# Create a formatter and set it for the handler\n",
    "formatter = logging.Formatter('%(asctime)s - %(levelname)s - %(message)s')\n",
    "handler.setFormatter(formatter)\n",
    "\n",
    "# Add the handler to the logger\n",
    "logger.addHandler(handler)\n",
    "\n",
    "#Log \"Hello, World!\" with INFO level\n",
    "logger.info(\"Hello, World!\")\n"
   ]
  },
  {
   "cell_type": "markdown",
   "id": "c8c7eee9",
   "metadata": {},
   "source": [
    "# 11. Create a Python program that logs an error message to the console and a file named \"errors.log\" if an exception occurs during the program's execution. The error message should include the exception type and a timestamp"
   ]
  },
  {
   "cell_type": "code",
   "execution_count": 17,
   "id": "23de61c7",
   "metadata": {},
   "outputs": [
    {
     "name": "stderr",
     "output_type": "stream",
     "text": [
      "2024-01-07 19:52:57,634 - ERROR - Exception occurred: ZeroDivisionError. Timestamp: 2024-01-07 19:52:57.633595\n",
      "2024-01-07 19:52:57,640 - ERROR - Traceback (most recent call last):\n",
      "  File \"C:\\Users\\Sarvadnya\\AppData\\Local\\Temp\\ipykernel_4612\\1124599305.py\", line 17, in main\n",
      "    result = 10 / 0\n",
      "             ~~~^~~\n",
      "ZeroDivisionError: division by zero\n",
      "\n"
     ]
    }
   ],
   "source": [
    "import logging\n",
    "import traceback\n",
    "import datetime\n",
    "\n",
    "def main():\n",
    "    # Configure logging\n",
    "    logging.basicConfig(filename='errors.log', filemode='a', format='%(asctime)s - %(levelname)s - %(message)s', level=logging.ERROR)\n",
    "    console_handler = logging.StreamHandler()  # Console handler\n",
    "    console_handler.setLevel(logging.ERROR)\n",
    "    formatter = logging.Formatter('%(asctime)s - %(levelname)s - %(message)s')\n",
    "    console_handler.setFormatter(formatter)\n",
    "    logging.getLogger('').addHandler(console_handler)  # Add console handler to root logger\n",
    "\n",
    "    try:\n",
    "        # Your program logic that might raise an exception\n",
    "        # For demonstration purposes, causing an intentional division by zero\n",
    "        result = 10 / 0\n",
    "    except Exception as e:\n",
    "        # Log the exception with timestamp\n",
    "        logging.error(f\"Exception occurred: {type(e).__name__}. Timestamp: {datetime.datetime.now()}\")\n",
    "        logging.error(traceback.format_exc())  # Log the traceback for detailed information\n",
    "\n",
    "if __name__ == \"__main__\":\n",
    "    main()"
   ]
  }
 ],
 "metadata": {
  "kernelspec": {
   "display_name": "Python 3 (ipykernel)",
   "language": "python",
   "name": "python3"
  },
  "language_info": {
   "codemirror_mode": {
    "name": "ipython",
    "version": 3
   },
   "file_extension": ".py",
   "mimetype": "text/x-python",
   "name": "python",
   "nbconvert_exporter": "python",
   "pygments_lexer": "ipython3",
   "version": "3.11.5"
  }
 },
 "nbformat": 4,
 "nbformat_minor": 5
}
