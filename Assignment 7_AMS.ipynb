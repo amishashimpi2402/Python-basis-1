{
 "cells": [
  {
   "cell_type": "markdown",
   "id": "4ae3a7c1",
   "metadata": {},
   "source": [
    "## Python Assignment 7"
   ]
  },
  {
   "cell_type": "markdown",
   "id": "93db8b4f",
   "metadata": {},
   "source": [
    "### 1.Create two int type variables, apply addition, subtraction, division and multiplicationsand store the results in variables. Then print the data in the following format by calling the variables:"
   ]
  },
  {
   "cell_type": "code",
   "execution_count": 1,
   "id": "d942b1a0",
   "metadata": {},
   "outputs": [
    {
     "name": "stdout",
     "output_type": "stream",
     "text": [
      "Number 1: 10\n",
      "Number 2: 5\n",
      "Addition: 15\n",
      "Subtraction: 5\n",
      "Division: 2.0\n",
      "Multiplication: 50\n"
     ]
    }
   ],
   "source": [
    "# Create two int variables\n",
    "num1 = 10\n",
    "num2 = 5\n",
    "\n",
    "# Perform arithmetic operations\n",
    "addition = num1 + num2\n",
    "subtraction = num1 - num2\n",
    "division = num1 / num2\n",
    "multiplication = num1 * num2\n",
    "\n",
    "# Print the data in the requested format\n",
    "print(\"Number 1:\", num1)\n",
    "print(\"Number 2:\", num2)\n",
    "print(\"Addition:\", addition)\n",
    "print(\"Subtraction:\", subtraction)\n",
    "print(\"Division:\", division)\n",
    "print(\"Multiplication:\", multiplication)\n",
    "\n",
    "\n"
   ]
  },
  {
   "cell_type": "markdown",
   "id": "9cc95a82",
   "metadata": {},
   "source": [
    "### 2.What is the difference between the following operators:\n",
    "(i) ‘/’ & ‘//’ \n",
    "\n",
    "    / is the division operator in Python. It performs floating-point division, meaning it returns the exact quotient as a floating-point number. For example, 5 / 2 would give the result 2.5.\n",
    "   \n",
    "   // is the floor division operator in Python. It performs integer division, meaning it returns the quotient as an integer by truncating any decimal part. For example, 5 // 2 would give the result 2.\n",
    "\n",
    "\n",
    "(ii) ‘**’ & ‘^’\n",
    "\n",
    "    ** is the exponentiation operator in Python. It is used to raise a number to a certain power. For example, 2 ** 3 would give the result 8.\n",
    "    \n",
    "    In Python, ^ is not the exponentiation operator but rather the bitwise XOR operator. It performs a bitwise exclusive OR operation on the binary representations of the operands."
   ]
  },
  {
   "cell_type": "markdown",
   "id": "bc637ac6",
   "metadata": {},
   "source": [
    "### 3.List the logical operators."
   ]
  },
  {
   "cell_type": "code",
   "execution_count": 2,
   "id": "3f1bfe4d",
   "metadata": {},
   "outputs": [
    {
     "name": "stdout",
     "output_type": "stream",
     "text": [
      "False\n",
      "True\n",
      "False\n"
     ]
    }
   ],
   "source": [
    "a = True\n",
    "b = False\n",
    "\n",
    "print(a and b) # Logical AND, Output: False\n",
    "print(a or b)  # Logical OR, Output: True\n",
    "print(not a)   # Logical NOT, Output: False\n"
   ]
  },
  {
   "cell_type": "markdown",
   "id": "47e39463",
   "metadata": {},
   "source": [
    "### 4.Explain right shift operator and left shift operator with examples."
   ]
  },
  {
   "cell_type": "markdown",
   "id": "3ad8d247",
   "metadata": {},
   "source": [
    "#### Right Shift Operator >> : Shifts the bits of the number to the right by the number of bits specified. Each shift to the right corresponds to dividing the number by 2."
   ]
  },
  {
   "cell_type": "code",
   "execution_count": 3,
   "id": "1ada36a5",
   "metadata": {},
   "outputs": [
    {
     "name": "stdout",
     "output_type": "stream",
     "text": [
      "2\n"
     ]
    }
   ],
   "source": [
    "a = 10        # in binary: 1010\n",
    "result = a >> 2  # result is 2 (in binary: 0010)\n",
    "print(result)"
   ]
  },
  {
   "cell_type": "markdown",
   "id": "64b61189",
   "metadata": {},
   "source": [
    "#### Left Shift Operator << : Shifts the bits of the number to the left by the number of bits specified. Each shift to the left corresponds to multiplying the number by 2."
   ]
  },
  {
   "cell_type": "code",
   "execution_count": 4,
   "id": "1d503999",
   "metadata": {},
   "outputs": [
    {
     "name": "stdout",
     "output_type": "stream",
     "text": [
      "40\n"
     ]
    }
   ],
   "source": [
    "a = 10        # in binary: 1010\n",
    "result = a << 2  # result is 40 (in binary: 101000)\n",
    "print(result)"
   ]
  },
  {
   "cell_type": "markdown",
   "id": "91a7aaef",
   "metadata": {},
   "source": [
    "### 5.Create a list containing int type data of length 15. Then write a code to check if 10 is present in the list or not"
   ]
  },
  {
   "cell_type": "code",
   "execution_count": 5,
   "id": "3427dce2",
   "metadata": {},
   "outputs": [
    {
     "name": "stdout",
     "output_type": "stream",
     "text": [
      "10 is present in the list.\n"
     ]
    }
   ],
   "source": [
    "# Create a list of length 15 with int type data\n",
    "my_list = [5, 3, 8, 10, 15, 20, 25, 30, 35, 40, 45, 50, 55, 60, 65]\n",
    "\n",
    "# Check if 10 is present in the list\n",
    "if 10 in my_list:\n",
    "    print(\"10 is present in the list.\")\n",
    "else:\n",
    "    print(\"10 is not present in the list.\")"
   ]
  },
  {
   "cell_type": "code",
   "execution_count": null,
   "id": "31d3546c",
   "metadata": {},
   "outputs": [],
   "source": []
  }
 ],
 "metadata": {
  "kernelspec": {
   "display_name": "Python 3 (ipykernel)",
   "language": "python",
   "name": "python3"
  },
  "language_info": {
   "codemirror_mode": {
    "name": "ipython",
    "version": 3
   },
   "file_extension": ".py",
   "mimetype": "text/x-python",
   "name": "python",
   "nbconvert_exporter": "python",
   "pygments_lexer": "ipython3",
   "version": "3.9.13"
  }
 },
 "nbformat": 4,
 "nbformat_minor": 5
}
