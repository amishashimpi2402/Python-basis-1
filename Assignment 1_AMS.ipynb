{
 "cells": [
  {
   "cell_type": "markdown",
   "id": "86bf39bd",
   "metadata": {},
   "source": [
    "#### Q1.In the below elements which of them are values or an expression? eg:- values can be integer or string and expressions will be mathematical operators\n"
   ]
  },
  {
   "cell_type": "code",
   "execution_count": null,
   "id": "63bc0863",
   "metadata": {},
   "outputs": [],
   "source": [
    "*       :Expression\n",
    "'hello' : Values\n",
    "-87.8   : Values\n",
    "-       : Expression\n",
    "/       :Expression\n",
    "+       :Expression\n",
    "6       : Values"
   ]
  },
  {
   "cell_type": "markdown",
   "id": "2c079289",
   "metadata": {},
   "source": [
    "#### Q2.What is the difference between string and variable?\n",
    "Variables are symbols that you can use to store data in a program.You can think of them as an empty box that you fill with some \n",
    "data or value.Strings are data,so we can use them to fillup a variable.\n"
   ]
  },
  {
   "cell_type": "markdown",
   "id": "388b878a",
   "metadata": {},
   "source": [
    "#### Q3. Describe three different data types.\n",
    "Integers: Integers are whole numbers, without a fractional component. They can be positive or negative.\n",
    "Floats: Floats represent real numbers and are written with a decimal point.\n",
    "Strings: Strings in Python are sequences of character data. They are created by enclosing characters in quotes."
   ]
  },
  {
   "cell_type": "markdown",
   "id": "16b392f7",
   "metadata": {},
   "source": [
    "#### Q4. What is an expression made up of? What do all expressions do?\n",
    "A combination of operands and operators is called an expression. The expression in Python produces some value or result\n",
    "after being interpreted by the Python interpreter. An expression in Python is a combination of operators and operands.\n"
   ]
  },
  {
   "cell_type": "markdown",
   "id": "274488c4",
   "metadata": {},
   "source": [
    "#### Q5.This assignment statements, like spam = 10. What is the difference between an expression and a statement?\n",
    "An expression evaluates to a single value. A statement does not."
   ]
  },
  {
   "cell_type": "markdown",
   "id": "92d1bc1e",
   "metadata": {},
   "source": [
    "#### Q6. After running the following code, what does the variable bacon contain?\n",
    "bacon = 22\n",
    "bacon + 1\n",
    "\n",
    "The bacon variable is set to 22. The bacon + 1 expression\n",
    "does not reassign the value in bacon (that would need an assignment statement: bacon = bacon + 1)"
   ]
  },
  {
   "cell_type": "markdown",
   "id": "c18f9bc7",
   "metadata": {},
   "source": [
    "#### Q7.What should the values of the following two terms be?\n",
    "'spam' + 'spamspam'\n",
    "'spam' * 3\n",
    "\n",
    "Both expressions evaluate to the string 'spamspamspam'"
   ]
  },
  {
   "cell_type": "markdown",
   "id": "ed49fb19",
   "metadata": {},
   "source": [
    "#### Q8. Why is eggs a valid variable name while 100 is invalid?\n",
    "Variable names cannot begin with a number."
   ]
  },
  {
   "cell_type": "code",
   "execution_count": null,
   "id": "0c602baa",
   "metadata": {},
   "outputs": [],
   "source": []
  },
  {
   "cell_type": "code",
   "execution_count": null,
   "id": "324bb44e",
   "metadata": {},
   "outputs": [],
   "source": []
  },
  {
   "cell_type": "code",
   "execution_count": null,
   "id": "070d225c",
   "metadata": {},
   "outputs": [],
   "source": []
  },
  {
   "cell_type": "code",
   "execution_count": null,
   "id": "a4984587",
   "metadata": {},
   "outputs": [],
   "source": []
  },
  {
   "cell_type": "code",
   "execution_count": null,
   "id": "6b7ea672",
   "metadata": {},
   "outputs": [],
   "source": []
  },
  {
   "cell_type": "code",
   "execution_count": null,
   "id": "1c50e120",
   "metadata": {},
   "outputs": [],
   "source": []
  },
  {
   "cell_type": "code",
   "execution_count": null,
   "id": "39a80862",
   "metadata": {},
   "outputs": [],
   "source": []
  },
  {
   "cell_type": "code",
   "execution_count": null,
   "id": "e8dfc461",
   "metadata": {},
   "outputs": [],
   "source": []
  }
 ],
 "metadata": {
  "kernelspec": {
   "display_name": "Python 3 (ipykernel)",
   "language": "python",
   "name": "python3"
  },
  "language_info": {
   "codemirror_mode": {
    "name": "ipython",
    "version": 3
   },
   "file_extension": ".py",
   "mimetype": "text/x-python",
   "name": "python",
   "nbconvert_exporter": "python",
   "pygments_lexer": "ipython3",
   "version": "3.9.13"
  }
 },
 "nbformat": 4,
 "nbformat_minor": 5
}
