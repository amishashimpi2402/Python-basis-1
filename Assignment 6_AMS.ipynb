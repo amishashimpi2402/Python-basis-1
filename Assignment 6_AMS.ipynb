{
 "cells": [
  {
   "cell_type": "markdown",
   "id": "a463a294",
   "metadata": {},
   "source": [
    "# Python Assignment 6"
   ]
  },
  {
   "cell_type": "markdown",
   "id": "71c80f63",
   "metadata": {},
   "source": [
    "### 1.What are keywords in python? Using the keyword library, print all the python keywords.\n",
    "The complete list of Python keywords are False, None, True, and, as, assert, async, await, break, class, continue, def, del, elif, else, except, finally, for, from, global, if, import, in, is, lambda, nonlocal, not, or, pass, raise, return, try, while, with, yield."
   ]
  },
  {
   "cell_type": "code",
   "execution_count": 10,
   "id": "c4b67b1e",
   "metadata": {},
   "outputs": [
    {
     "name": "stdout",
     "output_type": "stream",
     "text": [
      "['False', 'None', 'True', '__peg_parser__', 'and', 'as', 'assert', 'async', 'await', 'break', 'class', 'continue', 'def', 'del', 'elif', 'else', 'except', 'finally', 'for', 'from', 'global', 'if', 'import', 'in', 'is', 'lambda', 'nonlocal', 'not', 'or', 'pass', 'raise', 'return', 'try', 'while', 'with', 'yield']\n"
     ]
    }
   ],
   "source": [
    "import keyword\n",
    "print(keyword.kwlist) \n",
    "# To display all key words"
   ]
  },
  {
   "cell_type": "markdown",
   "id": "ee285bad",
   "metadata": {},
   "source": [
    "### 2.What are the rules to create variables in python?\n",
    "1)A variable name must start with a letter or the underscore character.\n",
    "2)A variable name cannot start with a number.\n",
    "3)A variable name can only contain alpha-numeric characters and underscores (A-z, 0-9, and _ )\n",
    "4)Variable names are case-sensitive (age, Age and AGE are three different variables)"
   ]
  },
  {
   "cell_type": "markdown",
   "id": "d6791dfc",
   "metadata": {},
   "source": [
    "### 3.What are the standards and conventions followed for the nomenclature of variables in python to improve code readability and maintainability?\n",
    "\n",
    "Instance variable names should follow the lowercase convention. Have the underscore as a separator while naming a multi-word instance variable. Begin a non-public instance variable name with a single underscore. Use two consecutive underscores at the beginning of an instance variable"
   ]
  },
  {
   "cell_type": "markdown",
   "id": "e6485c2c",
   "metadata": {},
   "source": [
    "### 4.What will happen if a keyword is used as a variable name?\n",
    "Keywords are the words in programming language which have a special meaning decided the lanuage. So we cannot use them as a variable as we cannot assign any value to them. In python keywords are case sensitive so we can use true as a variable but not TRUE."
   ]
  },
  {
   "cell_type": "markdown",
   "id": "0a6e7be1",
   "metadata": {},
   "source": [
    "### 5. For what purpose def keyword is used?\n",
    "The def keyword is used to create, (or define) a function."
   ]
  },
  {
   "cell_type": "markdown",
   "id": "da98bc39",
   "metadata": {},
   "source": [
    "### 6.What is the operation of this special character ‘\\’?\n",
    "In Python strings, the backslash \"\\\" is a special character, also called the \"escape\" character. It is used in representing certain whitespace characters: \"\\t\" is a tab, \"\\n\" is a newline, and \"\\r\" is a carriage return."
   ]
  },
  {
   "cell_type": "markdown",
   "id": "7293c350",
   "metadata": {},
   "source": [
    "### 7.Give an example of the following conditions:\n"
   ]
  },
  {
   "cell_type": "code",
   "execution_count": 1,
   "id": "2e05cd95",
   "metadata": {},
   "outputs": [
    {
     "name": "stdout",
     "output_type": "stream",
     "text": [
      "[1, 2, 3, 4, 5]\n"
     ]
    }
   ],
   "source": [
    "#i)Homogeneous list\n",
    "A=[1,2,3,4,5]\n",
    "print(A)"
   ]
  },
  {
   "cell_type": "markdown",
   "id": "90d2f764",
   "metadata": {},
   "source": [
    "#### In this list, all the elements are integers, making it a homogeneous list."
   ]
  },
  {
   "cell_type": "code",
   "execution_count": 2,
   "id": "9a58ba86",
   "metadata": {},
   "outputs": [
    {
     "name": "stdout",
     "output_type": "stream",
     "text": [
      "{'apple', 3.14, True}\n"
     ]
    }
   ],
   "source": [
    "#ii)Heterogeneous set\n",
    "X={\"apple\", 3.14, True}\n",
    "print(X)"
   ]
  },
  {
   "cell_type": "markdown",
   "id": "255b046e",
   "metadata": {},
   "source": [
    "#### In this set, we have a string (\"apple\"), a floating-point number (3.14), and a boolean value (True). Since the elements have different data types, it is a heterogeneous set."
   ]
  },
  {
   "cell_type": "code",
   "execution_count": 3,
   "id": "d31bcb6c",
   "metadata": {},
   "outputs": [
    {
     "name": "stdout",
     "output_type": "stream",
     "text": [
      "('Mango', 'Apple', 'Banana', 'Graphes')\n"
     ]
    }
   ],
   "source": [
    "#iii)Homogeneous tuple\n",
    "Fruits=(\"Mango\",\"Apple\",\"Banana\",\"Graphes\")\n",
    "print(Fruits)"
   ]
  },
  {
   "cell_type": "markdown",
   "id": "d318c777",
   "metadata": {},
   "source": [
    "#### In this tuple, all the elements are strings, making it a homogeneous tuple."
   ]
  },
  {
   "cell_type": "markdown",
   "id": "b5892fe7",
   "metadata": {},
   "source": [
    "### 8. Explain the mutable and immutable data types with proper explanation & examples\n",
    "Mutable data types : A mutable object can be changed after it is created\n",
    "eg : List, Set, Dictionary\n",
    "    \n",
    "Immutable data types : An immutable object cannot be changed after it is created\n",
    "eg: tuples, int, float, bool, frozenset."
   ]
  },
  {
   "cell_type": "markdown",
   "id": "3713d92e",
   "metadata": {},
   "source": [
    "### 9.Write a code to create the given structure using only for loop."
   ]
  },
  {
   "cell_type": "code",
   "execution_count": 8,
   "id": "34480aef",
   "metadata": {},
   "outputs": [
    {
     "name": "stdout",
     "output_type": "stream",
     "text": [
      "* \n",
      "* * \n",
      "* * * \n",
      "* * * * \n",
      "* * * * * \n"
     ]
    }
   ],
   "source": [
    "row = 5\n",
    "for i in range(row):\n",
    "    for j in range(i+1):\n",
    "        print(\"*\",end=\" \")\n",
    "    print()"
   ]
  },
  {
   "cell_type": "markdown",
   "id": "6fde1002",
   "metadata": {},
   "source": [
    "### 10.Write a code to create the given structure using while loop."
   ]
  },
  {
   "cell_type": "code",
   "execution_count": 9,
   "id": "3d22fdeb",
   "metadata": {},
   "outputs": [
    {
     "name": "stdout",
     "output_type": "stream",
     "text": [
      "|||||\n",
      "||||\n",
      "|||\n",
      "||\n",
      "|\n",
      "\n"
     ]
    }
   ],
   "source": [
    "rows = 5  # Number of rows in the pyramid\n",
    "\n",
    "while rows >= 0:\n",
    "    count = rows\n",
    "    while count > 0:\n",
    "        print(\"|\", end=\"\")\n",
    "        count -= 1\n",
    "    print()  # Move to the next line\n",
    "    rows -= 1"
   ]
  },
  {
   "cell_type": "code",
   "execution_count": null,
   "id": "af746e55",
   "metadata": {},
   "outputs": [],
   "source": []
  }
 ],
 "metadata": {
  "kernelspec": {
   "display_name": "Python 3 (ipykernel)",
   "language": "python",
   "name": "python3"
  },
  "language_info": {
   "codemirror_mode": {
    "name": "ipython",
    "version": 3
   },
   "file_extension": ".py",
   "mimetype": "text/x-python",
   "name": "python",
   "nbconvert_exporter": "python",
   "pygments_lexer": "ipython3",
   "version": "3.9.13"
  }
 },
 "nbformat": 4,
 "nbformat_minor": 5
}
