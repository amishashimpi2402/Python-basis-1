{
 "cells": [
  {
   "cell_type": "markdown",
   "id": "6d364c42",
   "metadata": {},
   "source": [
    "# Assignment 10"
   ]
  },
  {
   "cell_type": "markdown",
   "id": "abbba380",
   "metadata": {},
   "source": [
    "# 1. What is the role of try and exception block?"
   ]
  },
  {
   "cell_type": "markdown",
   "id": "dfefab47",
   "metadata": {},
   "source": [
    " try: This block contains the code where you anticipate an error might occur. It allows you to test a block of code for errors.\n",
    "        \n",
    " except: If an error occurs within the try block, the code within the except block is executed. It catches and handles the exception, preventing the program from crashing and allowing you to gracefully manage the error."
   ]
  },
  {
   "cell_type": "markdown",
   "id": "4987808f",
   "metadata": {},
   "source": [
    "# 2. What is the syntax for a basic try-except block?"
   ]
  },
  {
   "cell_type": "code",
   "execution_count": null,
   "id": "788f57b8",
   "metadata": {},
   "outputs": [],
   "source": [
    "try:\n",
    "    # Code that might raise an exception\n",
    "    # ...\n",
    "except SomeException:\n",
    "    # Code to handle the exception\n",
    "    # ...\n"
   ]
  },
  {
   "cell_type": "markdown",
   "id": "70063858",
   "metadata": {},
   "source": [
    "# 3. What happens if an exception occurs inside a try block and there is no matching except block"
   ]
  },
  {
   "cell_type": "markdown",
   "id": "0dcd9e52",
   "metadata": {},
   "source": [
    "If an exception occurs inside a try block and there is no matching except block to handle that specific type of exception, the program will terminate abruptly. This termination typically includes printing out the error message and traceback (information about where the error occurred in the code)."
   ]
  },
  {
   "cell_type": "markdown",
   "id": "ad1f20fd",
   "metadata": {},
   "source": [
    "# 4. What is the difference between using a bare except block and specifying a specific exception type?"
   ]
  },
  {
   "cell_type": "markdown",
   "id": "e8e3536e",
   "metadata": {},
   "source": [
    " Bare except:\n",
    "\n",
    "    The bare except: block catches any exception that occurs within the try block, regardless of its type.\n",
    "    It's a catch-all for any exception, which can sometimes make debugging harder as it might catch unexpected errors.\n",
    "    \n",
    " Specifying a specific exception type:\n",
    "\n",
    "    Using except SomeException: allows you to catch and handle a specific type of exception, providing more precise error handling.\n",
    "    It's considered good practice because it allows you to handle different exceptions differently, providing more targeted responses to specific errors."
   ]
  },
  {
   "cell_type": "markdown",
   "id": "abee70c5",
   "metadata": {},
   "source": [
    "# 5. Can you have nested try-except blocks in Python? If yes, then give an example."
   ]
  },
  {
   "cell_type": "markdown",
   "id": "dd0502ac",
   "metadata": {},
   "source": [
    "Yes, you can have nested try-except blocks in Python. This means you can have a try block inside another try block, and each can have its own corresponding except blocks."
   ]
  },
  {
   "cell_type": "code",
   "execution_count": null,
   "id": "0a7dc191",
   "metadata": {},
   "outputs": [],
   "source": [
    "try:\n",
    "    # Outer try block\n",
    "    number = int(input(\"Enter a number: \"))\n",
    "    \n",
    "    try:\n",
    "        # Inner try block\n",
    "        result = 10 / number\n",
    "        print(\"Result:\", result)\n",
    "    \n",
    "    except ZeroDivisionError:\n",
    "        # Inner except block to handle division by zero\n",
    "        print(\"Cannot divide by zero\")\n",
    "    \n",
    "except ValueError:\n",
    "    # Outer except block to handle invalid input (non-integer)\n",
    "    print(\"Invalid input. Please enter a valid number.\")"
   ]
  },
  {
   "cell_type": "markdown",
   "id": "c0e1ac32",
   "metadata": {},
   "source": [
    "# 6. Can we use multiple exception blocks, if yes then give an example."
   ]
  },
  {
   "cell_type": "markdown",
   "id": "84740ff3",
   "metadata": {},
   "source": [
    "Absolutely, in Python, you can use multiple except blocks to handle different types of exceptions that may occur within a try block. This approach allows you to handle various types of errors with specific handling for each."
   ]
  },
  {
   "cell_type": "code",
   "execution_count": null,
   "id": "1541a6c6",
   "metadata": {},
   "outputs": [],
   "source": [
    "try:\n",
    "    # Code that might raise different types of exceptions\n",
    "    value = int(input(\"Enter a number: \"))\n",
    "    result = 10 / value\n",
    "    \n",
    "    myList = [1, 2, 3]\n",
    "    index = int(input(\"Enter an index: \"))\n",
    "    print(\"Value at index:\", myList[index])\n",
    "\n",
    "except ValueError:\n",
    "    # Handling a ValueError (for invalid input)\n",
    "    print(\"Invalid input. Please enter a valid number.\")\n",
    "\n",
    "except ZeroDivisionError:\n",
    "    # Handling a ZeroDivisionError (division by zero)\n",
    "    print(\"Cannot divide by zero.\")\n",
    "\n",
    "except IndexError:\n",
    "    # Handling an IndexError (index out of range)\n",
    "    print(\"Index out of range for the list.\")"
   ]
  },
  {
   "cell_type": "markdown",
   "id": "3907a395",
   "metadata": {},
   "source": [
    "# 7. Write the reason due to which following errors are raised  a. EOFError  b. FloatingPointError  c. IndexError d. MemoryError e. OverflowError f. TabError g. ValueError"
   ]
  },
  {
   "cell_type": "markdown",
   "id": "644abc2f",
   "metadata": {},
   "source": [
    "a. EOFError: Raised when attempting to read beyond the end of a file or input stream. It occurs when the input() function hits an end-of-file condition without reading any data.\n",
    "\n",
    "b. FloatingPointError: This error occurs when a floating-point operation (like division by zero or an operation resulting in an undefined value) generates an exceptional condition.\n",
    "\n",
    "c. IndexError: Raised when trying to access an index in a sequence (such as a list, tuple, or string) that is outside the range or doesn't exist.\n",
    "\n",
    "d. MemoryError: This error happens when an operation fails due to the system running out of memory to allocate.\n",
    "\n",
    "e. OverflowError: Raised when a calculation exceeds the maximum limit for a numerical type. For instance, trying to store a value larger than the maximum representable value for a data type.\n",
    "\n",
    "f. TabError: This error occurs when indentation is inconsistent or a mix of tabs and spaces is used in the code, causing indentation-related issues.\n",
    "\n",
    "g. ValueError: Raised when a function receives an argument of the correct type but an inappropriate value. For example, passing an invalid argument to a function or trying to convert a string to an inappropriate data type."
   ]
  },
  {
   "cell_type": "markdown",
   "id": "0ca2424b",
   "metadata": {},
   "source": [
    "# 8. Write code for the following given scenario and add try-exception block to it.   a. Program to divide two numbers   b. Program to convert a string to an integer   c. Program to access an element in a list    d. Program to handle a specific exception   e. Program to handle any exception"
   ]
  },
  {
   "cell_type": "markdown",
   "id": "6fb27d39",
   "metadata": {},
   "source": [
    "### a. Program to divide two numbers"
   ]
  },
  {
   "cell_type": "code",
   "execution_count": null,
   "id": "0775ef60",
   "metadata": {},
   "outputs": [],
   "source": [
    "try:\n",
    "    num1 = float(input(\"Enter the first number: \"))\n",
    "    num2 = float(input(\"Enter the second number: \"))\n",
    "    result = num1 / num2\n",
    "    print(\"Result of division:\", result)\n",
    "except ZeroDivisionError:\n",
    "    print(\"Error: Division by zero is not allowed\")\n",
    "except ValueError:\n",
    "    print(\"Please enter valid numbers\")"
   ]
  },
  {
   "cell_type": "markdown",
   "id": "481de336",
   "metadata": {},
   "source": [
    "### b. Program to convert a string to an integer"
   ]
  },
  {
   "cell_type": "code",
   "execution_count": null,
   "id": "cc744e39",
   "metadata": {},
   "outputs": [],
   "source": [
    "try:\n",
    "    user_input = input(\"Enter a number: \")\n",
    "    number = int(user_input)\n",
    "    print(\"The integer value is:\", number)\n",
    "except ValueError:\n",
    "    print(\"Error: Please enter a valid integer\")"
   ]
  },
  {
   "cell_type": "markdown",
   "id": "2dc2a919",
   "metadata": {},
   "source": [
    "### c. Program to access an element in a list "
   ]
  },
  {
   "cell_type": "code",
   "execution_count": null,
   "id": "c0ae3a22",
   "metadata": {},
   "outputs": [],
   "source": [
    "try:\n",
    "    my_list = [1, 2, 3, 4, 5]\n",
    "    index = int(input(\"Enter the index to access: \"))\n",
    "    value = my_list[index]\n",
    "    print(\"Value at index\", index, \"is:\", value)\n",
    "except IndexError:\n",
    "    print(\"Error: Index out of range for the list\")\n",
    "except ValueError:\n",
    "    print(\"Error: Please enter a valid integer for the index\")3"
   ]
  },
  {
   "cell_type": "markdown",
   "id": "49b36475",
   "metadata": {},
   "source": [
    "### d. Program to handle a specific exception."
   ]
  },
  {
   "cell_type": "code",
   "execution_count": null,
   "id": "78b3a4de",
   "metadata": {},
   "outputs": [],
   "source": [
    "try:\n",
    "    my_dict = {'a': 1, 'b': 2, 'c': 3}\n",
    "    key = input(\"Enter a key to retrieve from the dictionary: \")\n",
    "    value = my_dict[key]\n",
    "    print(\"Value associated with key\", key, \"is:\", value)\n",
    "except KeyError:\n",
    "    print(\"Error: Key does not exist in the dictionary\")\n",
    "except Exception as e:\n",
    "    print(\"An error occurred:\", e)"
   ]
  },
  {
   "cell_type": "markdown",
   "id": "40840cdf",
   "metadata": {},
   "source": [
    "### e. Program to handle any exception"
   ]
  },
  {
   "cell_type": "code",
   "execution_count": null,
   "id": "df757421",
   "metadata": {},
   "outputs": [],
   "source": [
    "try:\n",
    "    # Your code that might raise an exception\n",
    "    # ...\n",
    "except Exception as e:\n",
    "    print(\"An error occurred:\", e)\n",
    "    # Handle the exception here, or log it, etc.\n"
   ]
  }
 ],
 "metadata": {
  "kernelspec": {
   "display_name": "Python 3 (ipykernel)",
   "language": "python",
   "name": "python3"
  },
  "language_info": {
   "codemirror_mode": {
    "name": "ipython",
    "version": 3
   },
   "file_extension": ".py",
   "mimetype": "text/x-python",
   "name": "python",
   "nbconvert_exporter": "python",
   "pygments_lexer": "ipython3",
   "version": "3.11.5"
  }
 },
 "nbformat": 4,
 "nbformat_minor": 5
}
