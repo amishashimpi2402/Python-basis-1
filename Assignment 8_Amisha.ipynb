{
 "cells": [
  {
   "cell_type": "markdown",
   "id": "4c66b595",
   "metadata": {},
   "source": [
    "# Assignment 8"
   ]
  },
  {
   "cell_type": "markdown",
   "id": "5298f96b",
   "metadata": {},
   "source": [
    "## 1. In Python, what is the difference between a built-in function and a user-defined function? Provide an example of each.\n",
    "\n",
    "\n"
   ]
  },
  {
   "cell_type": "markdown",
   "id": "f6746eff",
   "metadata": {},
   "source": [
    " In Python, a built-in function is a function that is already defined within the Python interpreter and is readily available for use without needing to define it explicitly.These functions are part of the Python language itself. "
   ]
  },
  {
   "cell_type": "code",
   "execution_count": 2,
   "id": "569b14b7",
   "metadata": {},
   "outputs": [
    {
     "name": "stdout",
     "output_type": "stream",
     "text": [
      "Length of the list: 5\n"
     ]
    }
   ],
   "source": [
    "# Example of a built-in function: len()\n",
    "sample_list = [1, 2, 3, 4, 5]\n",
    "length = len(sample_list)\n",
    "print(\"Length of the list:\", length)\n"
   ]
  },
  {
   "cell_type": "markdown",
   "id": "25b8812e",
   "metadata": {},
   "source": [
    "On the other hand, a user-defined function is created by the programmer to perform a specific task or set of tasks.These functions are defined using the def keyword and can be customized to suit the programmer's needs."
   ]
  },
  {
   "cell_type": "code",
   "execution_count": 3,
   "id": "ff19c7b8",
   "metadata": {},
   "outputs": [
    {
     "name": "stdout",
     "output_type": "stream",
     "text": [
      "Result of addition: 15\n"
     ]
    }
   ],
   "source": [
    "def add_numbers(a, b):\n",
    "    return a + b\n",
    "\n",
    "result = add_numbers(10, 5)\n",
    "print(\"Result of addition:\", result)"
   ]
  },
  {
   "cell_type": "markdown",
   "id": "10b24052",
   "metadata": {},
   "source": [
    "## 2.How can you pass arguments to a function in Python? Explain the difference between positional arguments and keyword arguments."
   ]
  },
  {
   "cell_type": "code",
   "execution_count": 4,
   "id": "9c8c46cd",
   "metadata": {},
   "outputs": [
    {
     "name": "stdout",
     "output_type": "stream",
     "text": [
      "Hello, Alice! Nice to meet you!\n"
     ]
    }
   ],
   "source": [
    "#Positionl arguments\n",
    "def greet(name, message):\n",
    "    print(f\"Hello, {name}! {message}\")\n",
    "\n",
    "greet(\"Alice\", \"Nice to meet you!\")  # \"Alice\" is passed as 'name', \"Nice to meet you!\" as 'message'\n"
   ]
  },
  {
   "cell_type": "code",
   "execution_count": 5,
   "id": "0eb727f9",
   "metadata": {},
   "outputs": [
    {
     "name": "stdout",
     "output_type": "stream",
     "text": [
      "Hello, Alice! Nice to meet you!\n"
     ]
    }
   ],
   "source": [
    "#keyword arguments\n",
    "def greet(name, message):\n",
    "    print(f\"Hello, {name}! {message}\")\n",
    "\n",
    "greet(message=\"Nice to meet you!\", name=\"Alice\")  # Order changed using parameter names\n"
   ]
  },
  {
   "cell_type": "code",
   "execution_count": 6,
   "id": "1bfe4977",
   "metadata": {},
   "outputs": [
    {
     "name": "stdout",
     "output_type": "stream",
     "text": [
      "Hello, Alice! Welcome!\n"
     ]
    }
   ],
   "source": [
    "#default argument\n",
    "def greet(name, message=\"Welcome!\"):\n",
    "    print(f\"Hello, {name}! {message}\")\n",
    "\n",
    "greet(\"Alice\")  # Since 'message' is not provided, it uses the default value\n"
   ]
  },
  {
   "cell_type": "markdown",
   "id": "dbd16132",
   "metadata": {},
   "source": [
    "## Difference between positional argument and keyword agrument"
   ]
  },
  {
   "cell_type": "markdown",
   "id": "7d969acc",
   "metadata": {},
   "source": [
    "    Positional Arguments are passed based on their position in the function call. \n",
    "    The order of arguments matters, and it's crucial to pass them in the same order as the function expects.\n",
    "    Changes in order can affect the outcome unless default values are used.\n",
    "\n",
    "    Keyword Arguments are identified by the parameter names when passed to the function. \n",
    "    This method allows you to pass arguments in any order, provided you specify the parameter name. \n",
    "    It makes the function call more readable and avoids confusion about the order of arguments.\n",
    "\n"
   ]
  },
  {
   "cell_type": "markdown",
   "id": "dc215d72",
   "metadata": {},
   "source": [
    "## 3.What is the purpose of the return statement in a function? Can a function have multiple return statements? Explain with an example"
   ]
  },
  {
   "cell_type": "markdown",
   "id": "4b3d7243",
   "metadata": {},
   "source": [
    "The return statement in Python is used to exit a function and optionally pass a value or values back to the caller\n",
    "\n",
    "Yes, a function can have multiple return statements. Once a return statement is executed, the function exits, so only one return statement will be executed during the function call."
   ]
  },
  {
   "cell_type": "code",
   "execution_count": 8,
   "id": "87e5fad8",
   "metadata": {},
   "outputs": [
    {
     "name": "stdout",
     "output_type": "stream",
     "text": [
      "Absolute value of 5: 5\n",
      "Absolute value of -8: 8\n"
     ]
    }
   ],
   "source": [
    "def absolute_value(number):\n",
    "    if number >= 0:\n",
    "        return number  # First return statement for non-negative numbers\n",
    "    else:\n",
    "        return -number  # Second return statement for negative numbers\n",
    "\n",
    "result1 = absolute_value(5)  # Returns 5\n",
    "result2 = absolute_value(-8)  # Returns 8\n",
    "\n",
    "print(\"Absolute value of 5:\", result1)\n",
    "print(\"Absolute value of -8:\", result2)"
   ]
  },
  {
   "cell_type": "markdown",
   "id": "8ca5e34b",
   "metadata": {},
   "source": [
    "## 4. What are lambda functions in Python? How are they different from regular functions? Provide an example where a lambda function can be useful."
   ]
  },
  {
   "cell_type": "markdown",
   "id": "b5b879dd",
   "metadata": {},
   "source": [
    "Lambda functions in Python are anonymous, small, and concise functions defined using the lambda keyword.\n",
    "They are used for simple operations and are often created on-the-fly without assigning a name to them.\n",
    "\n",
    "Lambda Functions: Lambda functions return the result of evaluating an expression. There is no need to use a return statement explicitly. Regular Functions: Regular functions return a value explicitly using a return statement. \n",
    "If no return statement is used, the function returns "
   ]
  },
  {
   "cell_type": "code",
   "execution_count": 9,
   "id": "84e81ae8",
   "metadata": {},
   "outputs": [
    {
     "name": "stdout",
     "output_type": "stream",
     "text": [
      "[(3, 2), (1, 5), (4, 6), (8, 10)]\n"
     ]
    }
   ],
   "source": [
    "# List of tuples\n",
    "pairs = [(1, 5), (3, 2), (8, 10), (4, 6)]\n",
    "\n",
    "# Sort based on the second element of each tuple\n",
    "sorted_pairs = sorted(pairs, key=lambda x: x[1])\n",
    "print(sorted_pairs)"
   ]
  },
  {
   "cell_type": "markdown",
   "id": "b582a2b3",
   "metadata": {},
   "source": [
    "## 5. How does the concept of \"scope\" apply to functions in Python? Explain the difference between local scope and global scope."
   ]
  },
  {
   "cell_type": "markdown",
   "id": "233c3c18",
   "metadata": {},
   "source": [
    "In Python, the concept of \"scope\" refers to the region of a program where a particular variable is accessible. The scope defines the visibility and accessibility of variables within different parts of the code."
   ]
  },
  {
   "cell_type": "markdown",
   "id": "80ce530a",
   "metadata": {},
   "source": [
    "### Local scope"
   ]
  },
  {
   "cell_type": "markdown",
   "id": "b0b72072",
   "metadata": {},
   "source": [
    "Local scope refers to the innermost scope, usually within a function. Variables defined within a function are accessible only within that function's block. They cannot be directly accessed from outside the function."
   ]
  },
  {
   "cell_type": "markdown",
   "id": "73cb7b3b",
   "metadata": {},
   "source": [
    "### Global scope"
   ]
  },
  {
   "cell_type": "markdown",
   "id": "90103803",
   "metadata": {},
   "source": [
    "Global scope refers to the outermost scope of a Python program or a module. Variables defined at this level can be accessed and modified from anywhere in the code."
   ]
  },
  {
   "cell_type": "markdown",
   "id": "67c37934",
   "metadata": {},
   "source": [
    "## 6. How can you use the \"return\" statement in a Python function to return multiple values?"
   ]
  },
  {
   "cell_type": "markdown",
   "id": "3a5614a7",
   "metadata": {},
   "source": [
    "In Python, the return statement can be used to return multiple values from a function by returning them as a tuple, list, dictionary, or any other collection type."
   ]
  },
  {
   "cell_type": "code",
   "execution_count": 11,
   "id": "cc603826",
   "metadata": {},
   "outputs": [
    {
     "name": "stdout",
     "output_type": "stream",
     "text": [
      "(10, 20, 30)\n"
     ]
    }
   ],
   "source": [
    "def get_values():\n",
    "    a = 10\n",
    "    b = 20\n",
    "    c = 30\n",
    "    return a, b, c  # Returning multiple values as a tuple\n",
    "\n",
    "result = get_values()\n",
    "print(result)"
   ]
  },
  {
   "cell_type": "markdown",
   "id": "2e56f307",
   "metadata": {},
   "source": [
    "## 7. What is the difference between the \"pass by value\" and \"pass by reference\" concepts when it comes to function arguments in Python?"
   ]
  },
  {
   "cell_type": "markdown",
   "id": "1eee91a3",
   "metadata": {},
   "source": [
    "Pass by value means that a copy of the actual data (the value) is passed to the function. Changes made to the parameter inside the function do not affect the original variable outside the function."
   ]
  },
  {
   "cell_type": "code",
   "execution_count": 12,
   "id": "a9397e47",
   "metadata": {},
   "outputs": [
    {
     "name": "stdout",
     "output_type": "stream",
     "text": [
      "Inside the function: 20\n",
      "Outside the function: 10\n"
     ]
    }
   ],
   "source": [
    "def modify_value(num):\n",
    "    num = num * 2\n",
    "    print(\"Inside the function:\", num)\n",
    "\n",
    "value = 10\n",
    "modify_value(value)\n",
    "print(\"Outside the function:\", value)"
   ]
  },
  {
   "cell_type": "markdown",
   "id": "0469de9e",
   "metadata": {},
   "source": [
    "Pass by reference means that the reference (memory address) of the actual data is passed to the function. The function parameter is an alias for the original variable, and modifications made inside the function affect the original variable."
   ]
  },
  {
   "cell_type": "code",
   "execution_count": 13,
   "id": "71cfbad2",
   "metadata": {},
   "outputs": [
    {
     "name": "stdout",
     "output_type": "stream",
     "text": [
      "Inside the function: [1, 2, 3, 4]\n",
      "Outside the function: [1, 2, 3, 4]\n"
     ]
    }
   ],
   "source": [
    "def modify_list(lst):\n",
    "    lst.append(4)\n",
    "    print(\"Inside the function:\", lst)\n",
    "\n",
    "my_list = [1, 2, 3]\n",
    "modify_list(my_list)\n",
    "print(\"Outside the function:\", my_list)"
   ]
  },
  {
   "cell_type": "markdown",
   "id": "d334c2a1",
   "metadata": {},
   "source": [
    "## 8. Create a function that can intake integer or decimal value and do following operations: a. Logarithmic function (log x) b. Exponential function (exp(x)) c. Power function with base 2 (2x) d. Square root"
   ]
  },
  {
   "cell_type": "code",
   "execution_count": 14,
   "id": "b7e1d6c5",
   "metadata": {},
   "outputs": [
    {
     "name": "stdout",
     "output_type": "stream",
     "text": [
      "Results for value 4 : {'Logarithm (log x)': 1.3862943611198906, 'Exponential (exp(x))': 54.598150033144236, 'Power function with base 2 (2^x)': 16, 'Square root': 2.0}\n"
     ]
    }
   ],
   "source": [
    "import math\n",
    "\n",
    "def math_operations(value):\n",
    "    # Logarithmic function (log x)\n",
    "    logarithm = math.log(value) if value > 0 else \"Undefined (logarithm of non-positive number)\"\n",
    "    \n",
    "    # Exponential function (exp(x))\n",
    "    exponential = math.exp(value)\n",
    "    \n",
    "    # Power function with base 2 (2^x)\n",
    "    power_2 = 2 ** value\n",
    "    \n",
    "    # Square root\n",
    "    square_root = math.sqrt(value) if value >= 0 else \"Undefined (square root of negative number)\"\n",
    "    \n",
    "    return {\n",
    "        \"Logarithm (log x)\": logarithm,\n",
    "        \"Exponential (exp(x))\": exponential,\n",
    "        \"Power function with base 2 (2^x)\": power_2,\n",
    "        \"Square root\": square_root\n",
    "    }\n",
    "\n",
    "# Test the function with an input value\n",
    "input_value = 4   # You can change this to any integer or decimal value\n",
    "result = math_operations(input_value)\n",
    "print(\"Results for value\", input_value, \":\", result)"
   ]
  },
  {
   "cell_type": "markdown",
   "id": "d0465dde",
   "metadata": {},
   "source": [
    "## 9. Create a function that takes a full name as an argument and returns first name and last name"
   ]
  },
  {
   "cell_type": "code",
   "execution_count": 15,
   "id": "1ca5dcd2",
   "metadata": {},
   "outputs": [
    {
     "name": "stdout",
     "output_type": "stream",
     "text": [
      "First Name: John\n",
      "Last Name: Doe Smith\n"
     ]
    }
   ],
   "source": [
    "def split_full_name(full_name):\n",
    "    names = full_name.split()\n",
    "    first_name = names[0]\n",
    "    last_name = ' '.join(names[1:]) if len(names) > 1 else ''\n",
    "    return first_name, last_name\n",
    "\n",
    "# Test the function\n",
    "full_name = \"John Doe Smith\"\n",
    "first, last = split_full_name(full_name)\n",
    "print(\"First Name:\", first)\n",
    "print(\"Last Name:\", last)"
   ]
  },
  {
   "cell_type": "code",
   "execution_count": null,
   "id": "9b55b683",
   "metadata": {},
   "outputs": [],
   "source": []
  }
 ],
 "metadata": {
  "kernelspec": {
   "display_name": "Python 3 (ipykernel)",
   "language": "python",
   "name": "python3"
  },
  "language_info": {
   "codemirror_mode": {
    "name": "ipython",
    "version": 3
   },
   "file_extension": ".py",
   "mimetype": "text/x-python",
   "name": "python",
   "nbconvert_exporter": "python",
   "pygments_lexer": "ipython3",
   "version": "3.11.5"
  }
 },
 "nbformat": 4,
 "nbformat_minor": 5
}
