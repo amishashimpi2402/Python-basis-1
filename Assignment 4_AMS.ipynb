{
 "cells": [
  {
   "cell_type": "markdown",
   "id": "c33c92ff",
   "metadata": {},
   "source": [
    "### Python Assignment 4"
   ]
  },
  {
   "cell_type": "markdown",
   "id": "25c68eb4",
   "metadata": {},
   "source": [
    "#### 1. What exactly is []?\n",
    "Ans : - [ ] is a empty list, like a =[ ]"
   ]
  },
  {
   "cell_type": "markdown",
   "id": "6b4500bd",
   "metadata": {},
   "source": [
    "#### 2. In a list of values stored in a variable called spam, how would you assign the value hello' as the third value? (Assume [2, 4, 6, 8, 10] are in spam.)"
   ]
  },
  {
   "cell_type": "code",
   "execution_count": null,
   "id": "f35fd4d6",
   "metadata": {},
   "outputs": [],
   "source": [
    "# solution by changing the value in index 3\n",
    "spam = [2, 4, 6, 8, 10]\n",
    "spam[2] = 'hello'\n",
    "spam"
   ]
  },
  {
   "cell_type": "markdown",
   "id": "b475e998",
   "metadata": {},
   "source": [
    "#### Lets pretend the spam includes the list ['a', 'b','c','d'] for the next three queries."
   ]
  },
  {
   "cell_type": "markdown",
   "id": "ee704d3a",
   "metadata": {},
   "source": [
    "#### 3.What is the value of spam[int(int(3 * 2) / 11)]?"
   ]
  },
  {
   "cell_type": "code",
   "execution_count": null,
   "id": "5ef6a769",
   "metadata": {},
   "outputs": [],
   "source": [
    "spam = ['a', 'b','c','d']\n",
    "spam[int(int('3' * 2) / 11)] # spam[int(33/11)] = spam[3]"
   ]
  },
  {
   "cell_type": "markdown",
   "id": "83200ced",
   "metadata": {},
   "source": [
    "#### 4.What is the value of spam[-1]?"
   ]
  },
  {
   "cell_type": "code",
   "execution_count": null,
   "id": "66c732c5",
   "metadata": {},
   "outputs": [],
   "source": [
    "spam = ['a', 'b','c','d']\n",
    "spam[-1] # negative index # d"
   ]
  },
  {
   "cell_type": "markdown",
   "id": "410ff5c6",
   "metadata": {},
   "source": [
    "#### 5.What is the value of spam[:2]?"
   ]
  },
  {
   "cell_type": "code",
   "execution_count": null,
   "id": "ea3eac4b",
   "metadata": {},
   "outputs": [],
   "source": [
    "spam[:2] # c"
   ]
  },
  {
   "cell_type": "markdown",
   "id": "40818d0f",
   "metadata": {},
   "source": [
    "#### Let's pretend bacon has the list [3.14, 'cat' 11, 'cat' True] for the next three questions."
   ]
  },
  {
   "cell_type": "markdown",
   "id": "ac461201",
   "metadata": {},
   "source": [
    "#### 6.What is the value of bacon.index('cat')?\n",
    "\n"
   ]
  },
  {
   "cell_type": "code",
   "execution_count": null,
   "id": "7b0f90f3",
   "metadata": {},
   "outputs": [],
   "source": [
    "bacon = [3.14, 'cat', 11, 'cat', True]\n",
    "bacon.index('cat')   # it returns the index of first occurrence of 'cat'"
   ]
  },
  {
   "cell_type": "markdown",
   "id": "3a556b5e",
   "metadata": {},
   "source": [
    "#### 7.How does bacon.append(99) change the look of the list value in bacon?"
   ]
  },
  {
   "cell_type": "code",
   "execution_count": null,
   "id": "281053e4",
   "metadata": {},
   "outputs": [],
   "source": [
    "bacon = [3.14, 'cat', 11, 'cat', True]\n",
    "bacon.append(99) # append adds the item at the end of the list\n",
    "bacon\n",
    "     "
   ]
  },
  {
   "cell_type": "markdown",
   "id": "f8cb7fa6",
   "metadata": {},
   "source": [
    "#### 8.How does bacon.remove('cat') change the look of the list in bacon?"
   ]
  },
  {
   "cell_type": "code",
   "execution_count": null,
   "id": "262c176c",
   "metadata": {},
   "outputs": [],
   "source": [
    "bacon = [3.14, 'cat', 11, 'cat', True]\n",
    "bacon.remove('cat') # remove first occurrence of item\n",
    "bacon"
   ]
  },
  {
   "cell_type": "markdown",
   "id": "050d51e6",
   "metadata": {},
   "source": [
    "#### 9. What are the list concatenation and list replication operators?\n",
    "( * ) is list replication operator ( + ) is list concatination operator\n"
   ]
  },
  {
   "cell_type": "code",
   "execution_count": null,
   "id": "b0a435b0",
   "metadata": {},
   "outputs": [],
   "source": [
    "l1 = [1,4]\n",
    "l2 = [2,5]\n",
    "# list concatination\n",
    "l1+l2"
   ]
  },
  {
   "cell_type": "code",
   "execution_count": null,
   "id": "b2e5d605",
   "metadata": {},
   "outputs": [],
   "source": [
    "l1 = [7,4]\n",
    "\n",
    "# list replication\n",
    "l1*3\n",
    "     "
   ]
  },
  {
   "cell_type": "markdown",
   "id": "57dd9350",
   "metadata": {},
   "source": [
    "#### 10. What is difference between the list methods append() and insert()?\n",
    "\n",
    "append() Appends object to the end of the list\n",
    "insert() Insert object before index\n"
   ]
  },
  {
   "cell_type": "code",
   "execution_count": null,
   "id": "5651cbb2",
   "metadata": {},
   "outputs": [],
   "source": [
    "bacon = [3.14, 'cat', 11, 'cat', True]\n",
    "bacon.append(99) # append adds the item at the end of the list\n",
    "bacon"
   ]
  },
  {
   "cell_type": "code",
   "execution_count": null,
   "id": "3484af16",
   "metadata": {},
   "outputs": [],
   "source": [
    "# solution by inserting value in 3rd index\n",
    "spam = [2, 4, 6, 8, 10]\n",
    "spam.insert(2,'hello')\n",
    "spam\n",
    "     "
   ]
  },
  {
   "cell_type": "markdown",
   "id": "bee6a587",
   "metadata": {},
   "source": [
    "#### 11.What are the two methods for removing items from a list?"
   ]
  },
  {
   "cell_type": "code",
   "execution_count": null,
   "id": "f2c94e7a",
   "metadata": {},
   "outputs": [],
   "source": [
    "#remove(item) - removeds first occurence of a item\n",
    "bacon = [3.14, 'cat', 11, 'cat', True]\n",
    "bacon.remove('cat')\n",
    "bacon\n",
    "     "
   ]
  },
  {
   "cell_type": "code",
   "execution_count": null,
   "id": "2c131d71",
   "metadata": {},
   "outputs": [],
   "source": [
    "#pop() - Remove and returns item at index (default last).\n",
    "bacon = [3.14, 'cat', 11, 'cat', True]\n",
    "bacon.pop()\n",
    "bacon"
   ]
  },
  {
   "cell_type": "markdown",
   "id": "8face0d0",
   "metadata": {},
   "source": [
    "#### 12.Describe how list values and string values are identical.\n",
    "1)Both lists and strings can be passed to len()\n",
    "2)Have indexes and slices\n",
    "3)Can be used in for loops\n",
    "4)Can be concatenated or replicated\n",
    "5)Can be used with the in and not in operators\n",
    "\n"
   ]
  },
  {
   "cell_type": "markdown",
   "id": "6374284b",
   "metadata": {},
   "source": [
    "#### 13.What's the difference between tuples and lists?\n",
    "\n",
    "Lists : are mutable - they can have values added, removed, or changed. lists use the square brackets, [ and ]\n",
    "Tuples : are immutable; they cannot be changed at all. Tuples are written using parentheses, ( and )\n"
   ]
  },
  {
   "cell_type": "markdown",
   "id": "418da630",
   "metadata": {},
   "source": [
    "#### 14.How do you type a tuple value that only contains the integer 42?"
   ]
  },
  {
   "cell_type": "code",
   "execution_count": null,
   "id": "d74dc9f6",
   "metadata": {},
   "outputs": [],
   "source": [
    "tuple = (42,)\n",
    "tuple"
   ]
  },
  {
   "cell_type": "markdown",
   "id": "140836ea",
   "metadata": {},
   "source": [
    "#### 15.How do you get a list value's tuple form? How do you get a tuple value's list form?"
   ]
  },
  {
   "cell_type": "code",
   "execution_count": 1,
   "id": "c9a09850",
   "metadata": {},
   "outputs": [
    {
     "data": {
      "text/plain": [
       "(2, 3)"
      ]
     },
     "execution_count": 1,
     "metadata": {},
     "output_type": "execute_result"
    }
   ],
   "source": [
    "l1 = [2,3]\n",
    "l = tuple(l1)\n",
    "l\n"
   ]
  },
  {
   "cell_type": "code",
   "execution_count": 2,
   "id": "5e041536",
   "metadata": {},
   "outputs": [
    {
     "data": {
      "text/plain": [
       "[3, 4]"
      ]
     },
     "execution_count": 2,
     "metadata": {},
     "output_type": "execute_result"
    }
   ],
   "source": [
    "t1 = (3,4)\n",
    "t = list(t1)\n",
    "t"
   ]
  },
  {
   "cell_type": "markdown",
   "id": "d5164c5d",
   "metadata": {},
   "source": [
    "#### 16.Variables that \"contain\" list values are not necessarily lists themselves. Instead, what do they contain?\n",
    "\n",
    "Ans. They contain references to list values\n"
   ]
  },
  {
   "cell_type": "markdown",
   "id": "02c37583",
   "metadata": {},
   "source": [
    "#### 17.How do you distinguish between copy.copy() and copy.deepcopy()?\n",
    "\n",
    "Ans . The copy.copy() function will do a shallow copy of a list,\n",
    "The copy.deepcopy() function will do a deep copy of a list. only copy.deepcopy() will duplicate any lists inside the list\n"
   ]
  }
 ],
 "metadata": {
  "kernelspec": {
   "display_name": "Python 3 (ipykernel)",
   "language": "python",
   "name": "python3"
  },
  "language_info": {
   "codemirror_mode": {
    "name": "ipython",
    "version": 3
   },
   "file_extension": ".py",
   "mimetype": "text/x-python",
   "name": "python",
   "nbconvert_exporter": "python",
   "pygments_lexer": "ipython3",
   "version": "3.9.13"
  }
 },
 "nbformat": 4,
 "nbformat_minor": 5
}
