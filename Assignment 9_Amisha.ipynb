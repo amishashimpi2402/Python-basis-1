{
 "cells": [
  {
   "cell_type": "markdown",
   "id": "b6b91def",
   "metadata": {},
   "source": [
    "# Assignment 9"
   ]
  },
  {
   "cell_type": "markdown",
   "id": "e45d929f",
   "metadata": {},
   "source": [
    "## 1. What is a lambda function in Python, and how does it differ from a regular function?"
   ]
  },
  {
   "cell_type": "markdown",
   "id": "05aea75c",
   "metadata": {},
   "source": [
    "A lambda function in Python is a small anonymous function defined using the lambda keyword. It's often used for short, simple operations where defining a full function using def is unnecessary or cumbersome."
   ]
  },
  {
   "cell_type": "markdown",
   "id": "f7b52d28",
   "metadata": {},
   "source": [
    "### different from regular function"
   ]
  },
  {
   "cell_type": "code",
   "execution_count": 1,
   "id": "b51b0fad",
   "metadata": {},
   "outputs": [
    {
     "name": "stdout",
     "output_type": "stream",
     "text": [
      "25\n"
     ]
    }
   ],
   "source": [
    "#Regular function\n",
    "def square(x):\n",
    "    return x * x\n",
    "\n",
    "result = square(5)\n",
    "print(result)"
   ]
  },
  {
   "cell_type": "code",
   "execution_count": 2,
   "id": "3de133e3",
   "metadata": {},
   "outputs": [
    {
     "name": "stdout",
     "output_type": "stream",
     "text": [
      "25\n"
     ]
    }
   ],
   "source": [
    "#lambda function\n",
    "square = lambda x: x * x\n",
    "\n",
    "result = square(5)\n",
    "print(result)"
   ]
  },
  {
   "cell_type": "markdown",
   "id": "5b0ded51",
   "metadata": {},
   "source": [
    "## 2.Can a lambda function in Python have multiple arguments? If yes, how can you define and use them?"
   ]
  },
  {
   "cell_type": "markdown",
   "id": "506ffd73",
   "metadata": {},
   "source": [
    " Yes, lambda functions in Python can have multiple arguments. we can define and use them by separating the arguments with commas, similar to how we can define multiple arguments in a regular function.\n",
    "\n"
   ]
  },
  {
   "cell_type": "code",
   "execution_count": 3,
   "id": "ca56158f",
   "metadata": {},
   "outputs": [
    {
     "name": "stdout",
     "output_type": "stream",
     "text": [
      "12\n"
     ]
    }
   ],
   "source": [
    "sum_lambda = lambda a, b: a + b\n",
    "\n",
    "result = sum_lambda(5, 7)\n",
    "print(result)"
   ]
  },
  {
   "cell_type": "markdown",
   "id": "d7ba4779",
   "metadata": {},
   "source": [
    "## 3.How are lambda functions typically used in Python? Provide an example use case."
   ]
  },
  {
   "cell_type": "markdown",
   "id": "d155e99f",
   "metadata": {},
   "source": [
    "Lambda functions in Python are primarily used for creating small, anonymous functions. They're handy when you need a simple function for a short period or a specific context. Lambda functions are often employed in functional programming paradigms or situations where passing a function as an argument is necessary, such as with map(), filter(), or sorted() functions."
   ]
  },
  {
   "cell_type": "code",
   "execution_count": 4,
   "id": "601d112d",
   "metadata": {},
   "outputs": [
    {
     "name": "stdout",
     "output_type": "stream",
     "text": [
      "[('Charlie', 20), ('Alice', 25), ('Bob', 30), ('David', 35)]\n"
     ]
    }
   ],
   "source": [
    "people = [(\"Alice\", 25), (\"Bob\", 30), (\"Charlie\", 20), (\"David\", 35)]\n",
    "\n",
    "# Sort the list of tuples by age\n",
    "sorted_people = sorted(people, key=lambda x: x[1])\n",
    "print(sorted_people)"
   ]
  },
  {
   "cell_type": "markdown",
   "id": "3ea69d4a",
   "metadata": {},
   "source": [
    "## 4. What are the advantages and limitations of lambda functions compared to regular functions in Python?"
   ]
  },
  {
   "cell_type": "markdown",
   "id": "32e96ab7",
   "metadata": {},
   "source": [
    "Lambda functions can be a powerful tool for writing concise, readable, and efficient code. But they have some limitations, such as being restricted to a single expression and having limited functionality compared to named functions.    "
   ]
  },
  {
   "cell_type": "markdown",
   "id": "814f69a5",
   "metadata": {},
   "source": [
    "Lambda functions have a more concise syntax than regular functions, making them suitable for simple functions that can be defined in a single line of code. Regular functions, on the other hand, can contain multiple statements and are more suitable for complex logic.   "
   ]
  },
  {
   "cell_type": "markdown",
   "id": "8a147737",
   "metadata": {},
   "source": [
    "## 5. Are lambda functions in Python able to access variables defined outside of their own scope? Explain with an example"
   ]
  },
  {
   "cell_type": "markdown",
   "id": "3d346f02",
   "metadata": {},
   "source": [
    "Yes, lambda functions in Python can access variables defined outside of their own scope, but they do so through capturing variables from the surrounding environment using closures. This means they can access variables from the enclosing scope where the lambda function is defined."
   ]
  },
  {
   "cell_type": "code",
   "execution_count": 5,
   "id": "44e61a0f",
   "metadata": {},
   "outputs": [
    {
     "name": "stdout",
     "output_type": "stream",
     "text": [
      "50\n"
     ]
    }
   ],
   "source": [
    "def generate_multiplier(n):\n",
    "    return lambda x: x * n\n",
    "\n",
    "# Define a lambda function that multiplies a number by 5\n",
    "multiply_by_5 = generate_multiplier(5)\n",
    "\n",
    "# Use the lambda function to multiply a value\n",
    "result = multiply_by_5(10)  # This will multiply 10 by 5 (n=5)\n",
    "print(result) "
   ]
  },
  {
   "cell_type": "markdown",
   "id": "7df57b42",
   "metadata": {},
   "source": [
    "## 6. Write a lambda function to calculate the square of a given number"
   ]
  },
  {
   "cell_type": "code",
   "execution_count": 11,
   "id": "46d05dc8",
   "metadata": {},
   "outputs": [
    {
     "name": "stdout",
     "output_type": "stream",
     "text": [
      "25\n"
     ]
    }
   ],
   "source": [
    "square = lambda x: x ** 2\n",
    "result = square(5)  # This will calculate the square of 5\n",
    "print(result)\n"
   ]
  },
  {
   "cell_type": "markdown",
   "id": "68ef8fff",
   "metadata": {},
   "source": [
    "## 7. Create a lambda function to find the maximum value in a list of integers."
   ]
  },
  {
   "cell_type": "code",
   "execution_count": 12,
   "id": "e6e22783",
   "metadata": {},
   "outputs": [
    {
     "name": "stdout",
     "output_type": "stream",
     "text": [
      "42\n"
     ]
    }
   ],
   "source": [
    "find_max = lambda lst: max(lst)\n",
    "numbers = [10, 25, 7, 42, 18]\n",
    "max_value = find_max(numbers)\n",
    "print(max_value)"
   ]
  },
  {
   "cell_type": "markdown",
   "id": "610fc774",
   "metadata": {},
   "source": [
    "## 8. Implement a lambda function to filter out all the even numbers from a list of integers."
   ]
  },
  {
   "cell_type": "code",
   "execution_count": 13,
   "id": "1b3c1da5",
   "metadata": {},
   "outputs": [
    {
     "name": "stdout",
     "output_type": "stream",
     "text": [
      "[2, 4, 6, 8, 10]\n"
     ]
    }
   ],
   "source": [
    "filter_even = lambda lst: list(filter(lambda x: x % 2 == 0, lst))\n",
    "numbers = [1, 2, 3, 4, 5, 6, 7, 8, 9, 10]\n",
    "even_numbers = filter_even(numbers)\n",
    "print(even_numbers)   # This will print the list of even numbers: [2, 4, 6, 8, 10]"
   ]
  },
  {
   "cell_type": "markdown",
   "id": "dd7b6f33",
   "metadata": {},
   "source": [
    "# 9. Write a lambda function to sort a list of strings in ascending order based on the length of each string."
   ]
  },
  {
   "cell_type": "code",
   "execution_count": 14,
   "id": "870368a0",
   "metadata": {},
   "outputs": [
    {
     "name": "stdout",
     "output_type": "stream",
     "text": [
      "['kiwi', 'pear', 'apple', 'banana', 'orange']\n"
     ]
    }
   ],
   "source": [
    "sort_by_length = lambda lst: sorted(lst, key=lambda x: len(x))\n",
    "words = [\"apple\", \"banana\", \"kiwi\", \"orange\", \"pear\"]\n",
    "sorted_words = sort_by_length(words)\n",
    "print(sorted_words) "
   ]
  },
  {
   "cell_type": "markdown",
   "id": "cfabddcd",
   "metadata": {},
   "source": [
    "## 10. Create a lambda function that takes two lists as input and returns a new list containing the common elements between the two lists."
   ]
  },
  {
   "cell_type": "code",
   "execution_count": 15,
   "id": "c3b73357",
   "metadata": {},
   "outputs": [
    {
     "name": "stdout",
     "output_type": "stream",
     "text": [
      "[3, 4, 5]\n"
     ]
    }
   ],
   "source": [
    "find_common_elements = lambda list1, list2: list(filter(lambda x: x in list1, list2))\n",
    "list_a = [1, 2, 3, 4, 5]\n",
    "list_b = [3, 4, 5, 6, 7]\n",
    "common_elements = find_common_elements(list_a, list_b)\n",
    "print(common_elements)  # This will print the list of common elements: [3, 4, 5]"
   ]
  },
  {
   "cell_type": "markdown",
   "id": "4317baad",
   "metadata": {},
   "source": [
    "## 11. Write a recursive function to calculate the factorial of a given positive integer."
   ]
  },
  {
   "cell_type": "code",
   "execution_count": 17,
   "id": "8467bd92",
   "metadata": {},
   "outputs": [],
   "source": [
    "def factorial(n):\n",
    "    if n == 0 or n == 1:  # Base case: factorial of 0 or 1 is 1\n",
    "        return 1\n",
    "    else:\n",
    "        return n * factorial(n - 1)  \n",
    "    "
   ]
  },
  {
   "cell_type": "code",
   "execution_count": 18,
   "id": "f224a8a2",
   "metadata": {},
   "outputs": [
    {
     "name": "stdout",
     "output_type": "stream",
     "text": [
      "The factorial of 5 is: 120\n"
     ]
    }
   ],
   "source": [
    "number = 5\n",
    "result = factorial(number)\n",
    "print(f\"The factorial of {number} is: {result}\")"
   ]
  },
  {
   "cell_type": "markdown",
   "id": "663b0fc8",
   "metadata": {},
   "source": [
    "## 12. Implement a recursive function to compute the nth Fibonacci number"
   ]
  },
  {
   "cell_type": "code",
   "execution_count": 19,
   "id": "30172887",
   "metadata": {},
   "outputs": [],
   "source": [
    "def fibonacci(n):\n",
    "    if n <= 1:  # Base case: for n = 0 or n = 1, Fibonacci number is n\n",
    "        return n\n",
    "    else:\n",
    "        return fibonacci(n - 1) + fibonacci(n - 2)  "
   ]
  },
  {
   "cell_type": "code",
   "execution_count": 20,
   "id": "dcea352b",
   "metadata": {},
   "outputs": [
    {
     "name": "stdout",
     "output_type": "stream",
     "text": [
      "The 7th Fibonacci number is: 13\n"
     ]
    }
   ],
   "source": [
    "number = 7\n",
    "result = fibonacci(number)\n",
    "print(f\"The {number}th Fibonacci number is: {result}\")"
   ]
  },
  {
   "cell_type": "markdown",
   "id": "ed883367",
   "metadata": {},
   "source": [
    "## 13. Create a recursive function to find the sum of all the elements in a given list"
   ]
  },
  {
   "cell_type": "code",
   "execution_count": 21,
   "id": "b3f6e562",
   "metadata": {},
   "outputs": [],
   "source": [
    "def recursive_sum(lst):\n",
    "    if not lst:  # Base case: empty list has sum 0\n",
    "        return 0\n",
    "    else:\n",
    "        return lst[0] + recursive_sum(lst[1:]) "
   ]
  },
  {
   "cell_type": "code",
   "execution_count": 22,
   "id": "e199c6f7",
   "metadata": {},
   "outputs": [
    {
     "name": "stdout",
     "output_type": "stream",
     "text": [
      "The sum of elements in the list is: 15\n"
     ]
    }
   ],
   "source": [
    "numbers = [1, 2, 3, 4, 5]\n",
    "result = recursive_sum(numbers)\n",
    "print(f\"The sum of elements in the list is: {result}\") "
   ]
  },
  {
   "cell_type": "markdown",
   "id": "1bd0dc4c",
   "metadata": {},
   "source": [
    "## 14. Write a recursive function to determine whether a given string is a palindrome."
   ]
  },
  {
   "cell_type": "code",
   "execution_count": 23,
   "id": "5af1fc45",
   "metadata": {},
   "outputs": [],
   "source": [
    "def is_palindrome(s):\n",
    "    s = s.lower()  # Convert the string to lowercase for case-insensitive comparison\n",
    "    if len(s) <= 1:  # Base case: Empty string or single-character string is a palindrome\n",
    "        return True\n",
    "    else:\n",
    "        if s[0] == s[-1]:  # Check if the first and last characters match\n",
    "            return is_palindrome(s[1:-1])  # Recursive call: Check the substring excluding the first and last characters\n",
    "        else:\n",
    "            return False  # If the first and last characters don't matc"
   ]
  },
  {
   "cell_type": "code",
   "execution_count": 24,
   "id": "cd35600c",
   "metadata": {},
   "outputs": [
    {
     "name": "stdout",
     "output_type": "stream",
     "text": [
      "'radar' is a palindrome: True\n",
      "'hello' is a palindrome: False\n"
     ]
    }
   ],
   "source": [
    "string1 = \"radar\"\n",
    "string2 = \"hello\"\n",
    "\n",
    "result1 = is_palindrome(string1)\n",
    "result2 = is_palindrome(string2)\n",
    "\n",
    "print(f\"'{string1}' is a palindrome: {result1}\")  \n",
    "print(f\"'{string2}' is a palindrome: {result2}\")"
   ]
  },
  {
   "cell_type": "markdown",
   "id": "93ec9720",
   "metadata": {},
   "source": [
    "## 15. Implement a recursive function to find the greatest common divisor (GCD) of two positive integers."
   ]
  },
  {
   "cell_type": "code",
   "execution_count": 25,
   "id": "88db9d17",
   "metadata": {},
   "outputs": [],
   "source": [
    "def gcd(a, b):\n",
    "    if b == 0:  # Base case: GCD(a, 0) = a\n",
    "        return a\n",
    "    else:\n",
    "        return gcd(b, a % b) "
   ]
  },
  {
   "cell_type": "code",
   "execution_count": 26,
   "id": "ef1f1bff",
   "metadata": {},
   "outputs": [
    {
     "name": "stdout",
     "output_type": "stream",
     "text": [
      "The GCD of 48 and 18 is: 6\n"
     ]
    }
   ],
   "source": [
    "num1 = 48\n",
    "num2 = 18\n",
    "\n",
    "result = gcd(num1, num2)\n",
    "print(f\"The GCD of {num1} and {num2} is: {result}\")"
   ]
  }
 ],
 "metadata": {
  "kernelspec": {
   "display_name": "Python 3 (ipykernel)",
   "language": "python",
   "name": "python3"
  },
  "language_info": {
   "codemirror_mode": {
    "name": "ipython",
    "version": 3
   },
   "file_extension": ".py",
   "mimetype": "text/x-python",
   "name": "python",
   "nbconvert_exporter": "python",
   "pygments_lexer": "ipython3",
   "version": "3.11.5"
  },
  "widgets": {
   "application/vnd.jupyter.widget-state+json": {
    "state": {},
    "version_major": 2,
    "version_minor": 0
   }
  }
 },
 "nbformat": 4,
 "nbformat_minor": 5
}
